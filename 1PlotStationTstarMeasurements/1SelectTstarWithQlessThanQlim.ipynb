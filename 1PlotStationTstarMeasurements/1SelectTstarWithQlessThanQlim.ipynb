{
 "cells": [
  {
   "cell_type": "code",
   "execution_count": 5,
   "metadata": {
    "ExecuteTime": {
     "end_time": "2019-07-19T13:44:28.538632Z",
     "start_time": "2019-07-19T13:44:28.358405Z"
    },
    "collapsed": true
   },
   "outputs": [],
   "source": [
    "import numpy as np\n",
    "import os\n",
    "from obspy.clients.iris import Client\n",
    "import obspy.geodetics.base as base \n",
    "stafile=\"./Input/Stations.dat\"\n",
    "evefile=\"./Input/EventCatlog\"\n",
    "tstarPfile=\"./Input/tstar_P_1.28sSNR3.dat\"\n",
    "tstarSfile=\"./Input/tstar_S_1.28sSNR3.dat\"\n",
    "phasefile=\"./Input/phase.dat\"\n",
    "\n",
    "with open(phasefile,\"r\") as f:\n",
    "    temp=f.read().splitlines()\n",
    "    TravelTime={}\n",
    "    for line in temp:\n",
    "        para=line.split()\n",
    "        if para[0]==\"#\":\n",
    "            evid=para[1]\n",
    "        else:\n",
    "            staname,t,qual,phase=para\n",
    "            t=float(t)\n",
    "            key=\"_\".join([evid,staname,phase])\n",
    "            TravelTime[key]=t\n",
    "\n",
    "with open(stafile,\"r\") as f:\n",
    "    temp=f.read().splitlines()\n",
    "    STA={}\n",
    "    for line in temp:\n",
    "        para=line.split()\n",
    "        staname,lat,lon,dep=para\n",
    "        STA[staname]=[float(lon),float(lat),-float(dep)/1000]\n",
    "with open(evefile,\"r\") as f:\n",
    "    temp=f.read().splitlines()\n",
    "    EVE={}\n",
    "    for line in temp:\n",
    "        para=line.split()\n",
    "        time,evid,lon,lat,dep,mag=para[0],para[9],para[3],para[2],para[4],para[5]\n",
    "        EVE[evid]=list(map(float,[lon,lat,dep,mag,time]))\n",
    "\n",
    "def readTstarInformation(tstarfile,EVE,STA,TravelTime,phaseflag):\n",
    "    with open(tstarfile,\"r\") as f:\n",
    "        temp=f.read().splitlines()\n",
    "        tstar_dist={}\n",
    "        for line in temp:\n",
    "            para=line.split()\n",
    "            if para[0]==\"#\":\n",
    "                evid=para[1]\n",
    "                evelon,evelat,evedep,mag,time=EVE[evid]\n",
    "            else:\n",
    "                staname=para[0]\n",
    "                stalon,stalat,stadep=STA[staname]\n",
    "                tstar=float(para[1])\n",
    "                fit=para[2]\n",
    "                phase=para[3]\n",
    "                dlat=stalat-evelat;dlon=stalon-evelon\n",
    "                dist=np.sqrt((dlat*111)**2 + (dlon*(np.cos(evelat*3.1415926/180)*111))**2 + (evedep-stadep)**2 ) #\n",
    "#                 result = Client().distaz(stalat,stalon,  evelat,evelon)\n",
    "#                 baz=result['backazimuth'];\n",
    "                dis,az,baz=base.gps2dist_azimuth(stalat,stalon,evelat,evelon)\n",
    "                key=\"_\".join([evid,staname,phaseflag])\n",
    "                travelTime= TravelTime[key]\n",
    "                if tstar<=0.00001:\n",
    "                    Q=np.inf \n",
    "                else:\n",
    "                    Q=travelTime/tstar   \n",
    "            \n",
    "                if staname in tstar_dist:\n",
    "                    tstar_dist[staname].append([tstar,dist,evedep,baz,evelon,evelat,mag,time,Q])\n",
    "                else:\n",
    "                    tstar_dist[staname]=[]\n",
    "                    tstar_dist[staname].append([tstar,dist,evedep,baz,evelon,evelat,mag,time,Q])\n",
    "    return tstar_dist\n",
    "\n",
    "def SelectTstar(tstarfile,EVE,STA,TravelTime,Qlim,phaseflag,outfile):\n",
    "    fid=open(outfile,\"w\")\n",
    "    with open(tstarfile,\"r\") as f:\n",
    "        temp=f.read().splitlines()\n",
    "        tstar_dist={}\n",
    "        for line in temp:\n",
    "            para=line.split()\n",
    "            if para[0]==\"#\":\n",
    "                evid=para[1]\n",
    "                evelon,evelat,evedep,mag,time=EVE[evid]\n",
    "                fid.write(\"#  {}\\n\".format(evid))\n",
    "            else:\n",
    "                staname=para[0]\n",
    "                stalon,stalat,stadep=STA[staname]\n",
    "                tstar=float(para[1])\n",
    "                fit=para[2]\n",
    "                phase=para[3]\n",
    "                key=\"_\".join([evid,staname,phaseflag])\n",
    "                travelTime= TravelTime[key]\n",
    "                if tstar<=0.00000001:\n",
    "                    Q=99999999999999\n",
    "                else:\n",
    "                    Q=travelTime/tstar\n",
    "                if Q<Qlim:\n",
    "                    fid.write(\"{} {:.5f} {} {}\\n\".format(staname,tstar,fit,phase))\n",
    "        fid.close()"
   ]
  },
  {
   "cell_type": "code",
   "execution_count": 8,
   "metadata": {
    "ExecuteTime": {
     "end_time": "2019-07-19T13:46:48.662974Z",
     "start_time": "2019-07-19T13:46:48.595328Z"
    },
    "collapsed": false
   },
   "outputs": [
    {
     "data": {
      "text/plain": [
       "0"
      ]
     },
     "execution_count": 8,
     "metadata": {},
     "output_type": "execute_result"
    }
   ],
   "source": [
    "os.system(\"rm -rf Output && mkdir Output\")\n",
    "Qlim=1500\n",
    "outfileP=\"./Output/P_tstar_selected_temp.dat\"\n",
    "outfileS=\"./Output/S_tstar_selected_temp.dat\"\n",
    "SelectTstar(tstarPfile,EVE,STA,TravelTime,Qlim,\"P\",outfileP)\n",
    "SelectTstar(tstarSfile,EVE,STA,TravelTime,Qlim,\"S\",outfileS)\n",
    "os.system(\"awk -f delete_no_picks_events.awk Output/P_tstar_selected_temp.dat >Output/P_tstar_selected.dat\")\n",
    "os.system(\"awk -f delete_no_picks_events.awk Output/S_tstar_selected_temp.dat >Output/S_tstar_selected.dat\")\n",
    "os.system(\"cd Output/ && rm -rf *temp*\")"
   ]
  },
  {
   "cell_type": "code",
   "execution_count": null,
   "metadata": {
    "collapsed": true
   },
   "outputs": [],
   "source": []
  }
 ],
 "metadata": {
  "kernelspec": {
   "display_name": "Python 3",
   "language": "python",
   "name": "python3"
  },
  "language_info": {
   "codemirror_mode": {
    "name": "ipython",
    "version": 3
   },
   "file_extension": ".py",
   "mimetype": "text/x-python",
   "name": "python",
   "nbconvert_exporter": "python",
   "pygments_lexer": "ipython3",
   "version": "3.6.8"
  },
  "varInspector": {
   "cols": {
    "lenName": 16,
    "lenType": 16,
    "lenVar": 40
   },
   "kernels_config": {
    "python": {
     "delete_cmd_postfix": "",
     "delete_cmd_prefix": "del ",
     "library": "var_list.py",
     "varRefreshCmd": "print(var_dic_list())"
    },
    "r": {
     "delete_cmd_postfix": ") ",
     "delete_cmd_prefix": "rm(",
     "library": "var_list.r",
     "varRefreshCmd": "cat(var_dic_list()) "
    }
   },
   "types_to_exclude": [
    "module",
    "function",
    "builtin_function_or_method",
    "instance",
    "_Feature"
   ],
   "window_display": false
  }
 },
 "nbformat": 4,
 "nbformat_minor": 2
}
